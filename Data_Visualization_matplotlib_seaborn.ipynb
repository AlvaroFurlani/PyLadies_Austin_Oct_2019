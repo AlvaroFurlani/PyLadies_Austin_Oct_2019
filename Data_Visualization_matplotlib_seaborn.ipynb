{
 "cells": [
  {
   "cell_type": "markdown",
   "metadata": {},
   "source": [
    "**Seaborn** is a visualization package that complements the functionalities available in **matplotlib**. It provides a high-level interface to draw attractive statistical graphics.\n",
    "\n",
    "From seaborn's official website:\n",
    "\n",
    "*If matplotlib tries to make easy things easy and hard things possible, seaborn tries to make a well-defined set of hard things easy too.*\n",
    "\n",
    "Seaborn strengths:\n",
    "* Aesthetically pleasing default themes (usually better defaults parameter than matplotlib)\n",
    "* Custom color palettes\n",
    "* Attractive statistical plots\n",
    "* Easy and flexible display of distributions\n",
    "* Easy visualization of arrays and DataFrames\n",
    "\n",
    "### Helpful links:\n",
    "\n",
    "* Fundamentals of Data Visualization (online book): https://serialmentor.com/dataviz/.\n",
    "* Colormaps: https://matplotlib.org/3.1.0/tutorials/colors/colormaps.html (see application example of sequential and diverging colormaps: https://fivethirtyeight.com/features/voters-feelings-about-the-debate-depended-on-what-issues-they-care-about/).\n",
    "* Color codes: http://colorbrewer2.org.\n",
    "* matplotlib gallery: https://matplotlib.org/3.1.1/gallery/index.html.\n",
    "* seaborn gallery: http://seaborn.pydata.org/examples/index.html#example-gallery."
   ]
  },
  {
   "cell_type": "code",
   "execution_count": null,
   "metadata": {},
   "outputs": [],
   "source": [
    "# Making sure you already have seaborn installed in your machine\n",
    "# If not, you case use pip (pip install seaborn) or conda (conda install seaborn)\n",
    "import seaborn as sns"
   ]
  },
  {
   "cell_type": "code",
   "execution_count": null,
   "metadata": {},
   "outputs": [],
   "source": [
    "# Load other packages\n",
    "import numpy as np\n",
    "import matplotlib.pyplot as plt\n",
    "import pandas as pd\n",
    "%matplotlib inline"
   ]
  },
  {
   "cell_type": "markdown",
   "metadata": {},
   "source": [
    "### Load datasets\n",
    "\n",
    "* We will use datasets already available in seaborn. The full list of datasets in their online repository is given here: https://github.com/mwaskom/seaborn-data."
   ]
  },
  {
   "cell_type": "code",
   "execution_count": null,
   "metadata": {},
   "outputs": [],
   "source": [
    "# Load 'tips' dataset\n",
    "tips = sns.load_dataset('tips')\n",
    "tips['tip_perc'] = tips['tip']/tips['total_bill']*100\n",
    "tips.head()"
   ]
  },
  {
   "cell_type": "markdown",
   "metadata": {},
   "source": [
    "### Example: distribution of *total_bill*"
   ]
  },
  {
   "cell_type": "code",
   "execution_count": null,
   "metadata": {},
   "outputs": [],
   "source": [
    "sns.distplot(tips['total_bill'])\n",
    "# kde=False (not that vertical axis change; to keep showing density, use norm_hist=True)\n",
    "# bins=30\n",
    "# color='tab:orange'\n",
    "\n",
    "# plt.xlabel('Total bill ($)')\n",
    "# plt.axvline(x=20, ls='--', c='tab:red')"
   ]
  },
  {
   "cell_type": "markdown",
   "metadata": {},
   "source": [
    "Note: if you want to visualize only the kernel density estimate, use *sns.kdeplot()*, which provides more formatting options.\n",
    "\n",
    "\n",
    "### Example: changing the figure style\n",
    "\n",
    "Matplotlib has various predefined styles; check all available options with *plt.style.available* and see examples at https://matplotlib.org/3.1.1/gallery/style_sheets/style_sheets_reference.html. Seaborn also provides figure styles, but it has less options than matplotlib.\n",
    "\n",
    "For chaging the style for all subsequent figures, use *plt.style.use('your_selected_style')*; for changing it only for a specific figure, see example below."
   ]
  },
  {
   "cell_type": "code",
   "execution_count": null,
   "metadata": {},
   "outputs": [],
   "source": [
    "plt.style.available"
   ]
  },
  {
   "cell_type": "code",
   "execution_count": null,
   "metadata": {},
   "outputs": [],
   "source": [
    "with plt.style.context('ggplot'):\n",
    "    sns.distplot(tips['total_bill'])\n",
    "    plt.xlabel('Total bill ($)')"
   ]
  },
  {
   "cell_type": "markdown",
   "metadata": {},
   "source": [
    "### Example: tip by the day of the week\n",
    "\n",
    "First, let's see how the default boxplot in matplotlib looks like (the built-in plotting functions in pandas use the default matplotlib settings)."
   ]
  },
  {
   "cell_type": "code",
   "execution_count": null,
   "metadata": {},
   "outputs": [],
   "source": [
    "tips.boxplot(column='tip', by='day')"
   ]
  },
  {
   "cell_type": "markdown",
   "metadata": {},
   "source": [
    "Now the much improved version with seaborn..."
   ]
  },
  {
   "cell_type": "code",
   "execution_count": null,
   "metadata": {},
   "outputs": [],
   "source": [
    "sns.boxplot(x='day', y='tip', data=tips)\n",
    "# notch=True\n",
    "# hue=sex\n",
    "# sns.swarmplot(x='tip', y='day', data=tips, color='0.3', size=4.5)\n",
    "\n",
    "# Further aesthetics adjustments with matplotlib\n",
    "# plt.xlabel('Day of the week')\n",
    "# plt.ylabel('Tip ($)')"
   ]
  },
  {
   "cell_type": "markdown",
   "metadata": {},
   "source": [
    "Note that boxplot is not a good option when using 2 or more categories (in this case, *day* and *smoker*). A later example shows a better visualization option for that."
   ]
  },
  {
   "cell_type": "markdown",
   "metadata": {},
   "source": [
    "### Exercise 1: \n",
    "\n",
    "* Use a boxplot to visualize the difference in tips between weekdays and weekends.\n",
    "* For this exercise only, use the *bmh* figure style.\n",
    "* Orient the plot horizontally.\n",
    "* Choose a palette different than the default one.\n",
    "* Modify the axes labels properly.\n",
    "\n",
    "You may need to look at the documentation for some additional settings: https://seaborn.pydata.org/generated/seaborn.boxplot.html.\n",
    "\n",
    "Hint: you need to perform operation with the dataframe prior to plotting for determining if each sample corresponds to either a weekday or weekend. This requires intermediate Python; if necessary, check the solution in *Exercise1a_solution.txt* in the repository for this tutorial so you can proceed to plotting. \n",
    "\n",
    "A suggested solution for the plot is given in *Exercise1b_solution*."
   ]
  },
  {
   "cell_type": "code",
   "execution_count": null,
   "metadata": {},
   "outputs": [],
   "source": [
    "## Solution goes here..."
   ]
  },
  {
   "cell_type": "markdown",
   "metadata": {},
   "source": [
    "### Example: more on tip by the day of the week\n",
    "\n",
    "In this example, data points are split by two categories (as observed before, boxplot is not a good option in this case).\n",
    "\n",
    "Note: the swarmplot may not be a good choice if the dataset contains thousandos of samples (plot becomes confusing to interpret)."
   ]
  },
  {
   "cell_type": "code",
   "execution_count": null,
   "metadata": {},
   "outputs": [],
   "source": [
    "sns.swarmplot(x='day', y='tip', data=tips)\n",
    "# hue='sex'\n",
    "# dodge=True\n",
    "# order=['Sat', 'Sun', 'Thur', 'Fri'] (also allows selecting fewer categories: try order=['Sat', 'Sun'])\n",
    "\n",
    "plt.xlabel('Day of the week')\n",
    "plt.ylabel('Tip ($)')"
   ]
  },
  {
   "cell_type": "markdown",
   "metadata": {},
   "source": [
    "The function *sns.stripplot()* is very similar to *sns.swarmplot()*; however, points may overlap. Modify the cell above to use *sns.stripplot*; if necessary, adjust the parameter *jitter* so that there is less overlap between points.\n",
    "\n",
    "\n",
    "Violin and swarm plots may be combined to display more information in the figure, as shown below."
   ]
  },
  {
   "cell_type": "code",
   "execution_count": null,
   "metadata": {},
   "outputs": [],
   "source": [
    "sns.violinplot(x='day', y='tip', data=tips, inner=None)\n",
    "sns.swarmplot(x='day', y='tip', data=tips, color='white', edgecolor='gray', size=4)\n",
    "\n",
    "plt.xlabel('Day of the week')\n",
    "plt.ylabel('Tip ($)')"
   ]
  },
  {
   "cell_type": "markdown",
   "metadata": {},
   "source": [
    "Even more alternatives for violin plots..."
   ]
  },
  {
   "cell_type": "code",
   "execution_count": null,
   "metadata": {},
   "outputs": [],
   "source": [
    "sns.catplot(x='day', y='tip', hue='sex', kind='violin', split=True, data=tips)\n",
    "sns.despine(top=False, right=False)\n",
    "\n",
    "plt.xlabel('Day of the week')\n",
    "plt.ylabel('Tip ($)')"
   ]
  },
  {
   "cell_type": "markdown",
   "metadata": {},
   "source": [
    "### Example: relationship between *total_bill* and *tip_perc*\n",
    "\n",
    "Creating a scatter plot with different colors and/or markers for each category is straightforward in seaborn; it would be much more complicated in matplotlib."
   ]
  },
  {
   "cell_type": "code",
   "execution_count": null,
   "metadata": {},
   "outputs": [],
   "source": [
    "sns.scatterplot(x='total_bill', y='tip_perc', data=tips)\n",
    "# hue='day'\n",
    "# style='day'\n",
    "# size='size'\n",
    "\n",
    "plt.gca().set(xlabel='Total bill ($)', ylabel='Tip (%)')\n",
    "# plt.ylim(0, 43)"
   ]
  },
  {
   "cell_type": "markdown",
   "metadata": {},
   "source": [
    "Now we want to visualize and perform some statistics analysis for the relationship between *total_bill* and *tip_perc* by sex."
   ]
  },
  {
   "cell_type": "code",
   "execution_count": null,
   "metadata": {},
   "outputs": [],
   "source": [
    "sns.lmplot(x='total_bill', y='tip_perc', data=tips)\n",
    "# sns.despine(top=False, right=False)\n",
    "# hue='sex'\n",
    "# col='time'\n",
    "# row='smoker',\n",
    "\n",
    "plt.gca().set(xlabel='Total bill ($)', ylabel='Tip (%)')\n",
    "plt.ylim(0, 43)"
   ]
  },
  {
   "cell_type": "markdown",
   "metadata": {},
   "source": [
    "### Exercise 2: \n",
    "\n",
    "* Using a barplot, determine if tips are higher on weekdays or weekends. Also consider the sex of the customer.\n",
    "* Modify the axes labels properly.\n",
    "\n",
    "Most of the solution is given below, you just need to fill out some paramters for *sns.catplot()*."
   ]
  },
  {
   "cell_type": "code",
   "execution_count": null,
   "metadata": {},
   "outputs": [],
   "source": [
    "sns.catplot(x=?, y=?, kind=?, data=tips)\n",
    "sns.despine(top=False, right=False)\n",
    "\n",
    "plt.gca().set(xlabel='', ylabel='Tip ($)')"
   ]
  },
  {
   "cell_type": "markdown",
   "metadata": {},
   "source": [
    "### Exercise 3:\n",
    "\n",
    "* Load the dataset *iris*.\n",
    "* Create a plot of two variables with bivariate and univariate graphs; it is called *jointplot* in seaborn: https://seaborn.pydata.org/generated/seaborn.jointplot.html.\n",
    "* For this figure only, use the *white* style from seaborn: *sns.axes_style('white')*.\n",
    "* The variables for plotting are *sepal_length* and *petal_length*.\n",
    "* The distributions should be displayed as kernel density estimates (kde).\n",
    "* Remove the white space between the joint and marginal axes.\n",
    "* Choose a color different than the default one.\n",
    "* Modify the axes labels properly."
   ]
  },
  {
   "cell_type": "code",
   "execution_count": null,
   "metadata": {},
   "outputs": [],
   "source": [
    "## Solution goes here..."
   ]
  },
  {
   "cell_type": "markdown",
   "metadata": {},
   "source": [
    "You can also visualize the pairwise relationships in the dataset. See documentation for available parameters: https://seaborn.pydata.org/generated/seaborn.pairplot.html."
   ]
  },
  {
   "cell_type": "code",
   "execution_count": null,
   "metadata": {},
   "outputs": [],
   "source": [
    "sns.pairplot(data=iris, hue='species')"
   ]
  },
  {
   "cell_type": "markdown",
   "metadata": {},
   "source": [
    "### Example: some line plots"
   ]
  },
  {
   "cell_type": "code",
   "execution_count": null,
   "metadata": {},
   "outputs": [],
   "source": [
    "fmri = sns.load_dataset('fmri')"
   ]
  },
  {
   "cell_type": "code",
   "execution_count": null,
   "metadata": {},
   "outputs": [],
   "source": [
    "sns.lineplot(x='timepoint', y='signal', data=fmri)\n",
    "# hue='region'\n",
    "# style='event'\n",
    "\n",
    "plt.gca().set(xlabel='Time', ylabel='Signal')"
   ]
  },
  {
   "cell_type": "code",
   "execution_count": null,
   "metadata": {},
   "outputs": [],
   "source": [
    "sns.relplot(x='timepoint', y='signal', kind='line', data=fmri)\n",
    "# hue='event'\n",
    "# style='event'\n",
    "# col='region'"
   ]
  },
  {
   "cell_type": "markdown",
   "metadata": {},
   "source": [
    "### More advanced example: hierarchically-clustered heatmap"
   ]
  },
  {
   "cell_type": "code",
   "execution_count": null,
   "metadata": {},
   "outputs": [],
   "source": [
    "# Load the brain networks example dataset\n",
    "brain = sns.load_dataset('brain_networks', header=[0, 1, 2], index_col=0)\n",
    "\n",
    "# Select a subset of the networks\n",
    "used_networks = [1, 5, 6, 7, 8, 12, 13, 17]\n",
    "used_columns = (brain.columns.get_level_values('network').astype(int).isin(used_networks))\n",
    "brain = brain.loc[:, used_columns]\n",
    "\n",
    "# Create a categorical palette to identify the networks\n",
    "network_pal = sns.husl_palette(8, s=.45)\n",
    "network_lut = dict(zip(map(str, used_networks), network_pal))\n",
    "\n",
    "# Convert the palette to vectors that will be drawn on the side of the matrix\n",
    "networks = brain.columns.get_level_values('network')\n",
    "network_colors = pd.Series(networks, index=brain.columns).map(network_lut)\n",
    "\n",
    "# Draw the full plot\n",
    "sns.clustermap(brain.corr(), method='single', center=0, cmap='vlag',\n",
    "               row_colors=network_colors, col_colors=network_colors,\n",
    "               linewidths=.75, figsize=(13, 13))\n",
    "# method can be 'single' (default), 'complete', 'average', 'weighted', 'centroid', 'median', or 'ward'"
   ]
  },
  {
   "cell_type": "markdown",
   "metadata": {},
   "source": [
    "### More advanced example: ridge plot of annual temperatures by month"
   ]
  },
  {
   "cell_type": "code",
   "execution_count": null,
   "metadata": {},
   "outputs": [],
   "source": [
    "# Create data (random values)\n",
    "avg_high = np.array([62, 65, 72, 80, 87, 92, 96, 97, 91, 82, 71, 63])\n",
    "avg_low = np.array([42, 45, 51, 59, 67, 72, 74, 75, 69, 61, 51, 42])\n",
    "avg_temp = (avg_high + avg_low)/2\n",
    "\n",
    "npoints = 500\n",
    "all_temps = []\n",
    "for val in avg_temp:\n",
    "    all_temps.extend(list(np.random.normal(loc=val, scale=1.5, size=(npoints))))\n",
    "months = ['Jan', 'Fev', 'Mar', 'Apr', 'May', 'June', 'July', 'Aug' , 'Sept', 'Oct' ,'Nov' , 'Dec']\n",
    "df = pd.DataFrame(dict(temps=all_temps, months=np.repeat(months, npoints)))"
   ]
  },
  {
   "cell_type": "code",
   "execution_count": null,
   "metadata": {},
   "outputs": [],
   "source": [
    "# Create palette based on monthly average temperatures\n",
    "color_codes = np.array(sns.color_palette(palette='coolwarm', n_colors=12))\n",
    "temp_means = df.groupby(by='months').mean().loc[months]\n",
    "# pal = list(color_codes[np.argsort(temp_means['temps'].values)])\n",
    "temp_means_sorted = temp_means.sort_values(by='temps').index.tolist()\n",
    "color_month = [temp_means_sorted.index(x) for x in months]\n",
    "pal = list(color_codes[color_month])"
   ]
  },
  {
   "cell_type": "code",
   "execution_count": null,
   "metadata": {},
   "outputs": [],
   "source": [
    "# Plot\n",
    "sns.set(style='white', rc={'axes.facecolor': (0, 0, 0, 0)})\n",
    "\n",
    "# Initialize the FacetGrid object\n",
    "fig = sns.FacetGrid(data=df, row='months', hue='months', aspect=15, height=0.5, palette=pal)\n",
    "\n",
    "# Draw the densities in a few steps\n",
    "fig.map(sns.kdeplot, 'temps', clip_on=False, shade=True, alpha=1, lw=1.5, bw=0.2)\n",
    "fig.map(sns.kdeplot, 'temps', clip_on=False, color='w', lw=2, bw=0.2)\n",
    "fig.map(plt.axhline, y=0, lw=2, clip_on=False)\n",
    "\n",
    "# Define and use a simple function to label the plot in axes coordinates\n",
    "def label(x, color, label):\n",
    "    ax = plt.gca()\n",
    "    ax.text(0, 0.2, label, fontweight='bold', color='0.2',\n",
    "            ha='left', va='center', transform=ax.transAxes)\n",
    "fig.map(label, 'temps')\n",
    "\n",
    "# Set the subplots to overlap\n",
    "fig.fig.subplots_adjust(hspace=-0.25)\n",
    "\n",
    "# Remove axes details that don't play well with overlap\n",
    "fig.set_titles('')\n",
    "fig.set(yticks=[])\n",
    "fig.despine(bottom=True, left=True)\n",
    "plt.xlabel('Temperature (F)')"
   ]
  }
 ],
 "metadata": {
  "kernelspec": {
   "display_name": "Python 3",
   "language": "python",
   "name": "python3"
  },
  "language_info": {
   "codemirror_mode": {
    "name": "ipython",
    "version": 3
   },
   "file_extension": ".py",
   "mimetype": "text/x-python",
   "name": "python",
   "nbconvert_exporter": "python",
   "pygments_lexer": "ipython3",
   "version": "3.7.4"
  }
 },
 "nbformat": 4,
 "nbformat_minor": 2
}
